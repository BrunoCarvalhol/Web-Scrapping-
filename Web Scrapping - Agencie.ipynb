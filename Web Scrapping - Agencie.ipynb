{
 "cells": [
  {
   "cell_type": "code",
   "execution_count": 1,
   "metadata": {},
   "outputs": [],
   "source": [
    "from bs4 import BeautifulSoup as bs\n",
    "import requests\n",
    "import numpy as np\n",
    "import pandas as pd"
   ]
  },
  {
   "cell_type": "code",
   "execution_count": 2,
   "metadata": {},
   "outputs": [],
   "source": [
    "agence = []\n",
    "links = []\n",
    "countries = []\n",
    "\n",
    "def web_scrapping(url, page):\n",
    "    while page <= 140:\n",
    "        url = str(url[0:36])+str(page)+\".html\"\n",
    "        response = requests.get(str(url))\n",
    "        soup = bs(response.content)\n",
    "        \n",
    "        info_box = soup.find_all('figcaption')\n",
    "        link_box = soup.find_all(class_='bottom-block')\n",
    "        country_box = soup.find_all(class_='summary')\n",
    "        \n",
    "        for i in range(len(link_box) - 1):\n",
    "            links.append(link_box[i].a['href'])\n",
    "        \n",
    "        for box in info_box:\n",
    "             agence.append(box.get_text()) \n",
    "        \n",
    "         \n",
    "        for country in country_box:\n",
    "            aux_countrie = country.get_text().replace('\\n',' ').strip().split(' ')\n",
    "            countries.append(aux_countrie[-1])\n",
    "             \n",
    "                \n",
    "            \n",
    "        page = page + 1\n",
    "        \n",
    "    \n",
    "    return agence, links, countries"
   ]
  },
  {
   "cell_type": "code",
   "execution_count": 10,
   "metadata": {},
   "outputs": [],
   "source": [
    "a, l, c = web_scrapping('https://www.immotop.lu/agences/index1.html', 1)\n",
    "data = {'Agence': a,'Links':l, 'Country':c}\n",
    "df2 = pd.DataFrame(data, columns = ['Agence','Links', 'Country'])"
   ]
  },
  {
   "cell_type": "code",
   "execution_count": 12,
   "metadata": {},
   "outputs": [],
   "source": [
    "df2_copy = df2.copy()"
   ]
  },
  {
   "cell_type": "code",
   "execution_count": 27,
   "metadata": {},
   "outputs": [
    {
     "data": {
      "text/plain": [
       "FRANCE         1310\n",
       "ans             940\n",
       "BELGIQUE        708\n",
       "LUXEMBOURG      296\n",
       "ALLEMAGNE         8\n",
       "HOOGERHEIDE       2\n",
       "GOES              2\n",
       "ROOSENDAAL        2\n",
       "Name: Country, dtype: int64"
      ]
     },
     "execution_count": 27,
     "metadata": {},
     "output_type": "execute_result"
    }
   ],
   "source": [
    "df2 = df2_copy\n",
    "df2['Country'].value_counts()"
   ]
  },
  {
   "cell_type": "code",
   "execution_count": 32,
   "metadata": {},
   "outputs": [],
   "source": [
    "df2.drop(df2[(df2['Country'] == 'LUXEMBOURG')].index, inplace = True)\n",
    "df2.drop(df2[(df2['Country'] == 'ALLEMAGNE')].index, inplace = True)\n",
    "df2.drop(df2[(df2['Country'] == 'HOOGERHEIDE')].index, inplace = True)\n",
    "df2.drop(df2[(df2['Country'] == 'GOES')].index, inplace = True)\n",
    "df2.drop(df2[(df2['Country'] == 'ROOSENDAAL')].index, inplace = True)"
   ]
  },
  {
   "cell_type": "code",
   "execution_count": 33,
   "metadata": {},
   "outputs": [
    {
     "data": {
      "text/plain": [
       "FRANCE      1310\n",
       "BELGIQUE     708\n",
       "Name: Country, dtype: int64"
      ]
     },
     "execution_count": 33,
     "metadata": {},
     "output_type": "execute_result"
    }
   ],
   "source": [
    "df2['Country'].value_counts()"
   ]
  },
  {
   "cell_type": "code",
   "execution_count": 34,
   "metadata": {},
   "outputs": [
    {
     "data": {
      "text/html": [
       "<div>\n",
       "<style scoped>\n",
       "    .dataframe tbody tr th:only-of-type {\n",
       "        vertical-align: middle;\n",
       "    }\n",
       "\n",
       "    .dataframe tbody tr th {\n",
       "        vertical-align: top;\n",
       "    }\n",
       "\n",
       "    .dataframe thead th {\n",
       "        text-align: right;\n",
       "    }\n",
       "</style>\n",
       "<table border=\"1\" class=\"dataframe\">\n",
       "  <thead>\n",
       "    <tr style=\"text-align: right;\">\n",
       "      <th></th>\n",
       "      <th>Agence</th>\n",
       "      <th>Links</th>\n",
       "      <th>Country</th>\n",
       "    </tr>\n",
       "  </thead>\n",
       "  <tbody>\n",
       "    <tr>\n",
       "      <th>0</th>\n",
       "      <td>13 IMMO</td>\n",
       "      <td>https://www.immotop.lu/estate-agency/13-immo-d...</td>\n",
       "      <td>BELGIQUE</td>\n",
       "    </tr>\n",
       "    <tr>\n",
       "      <th>2</th>\n",
       "      <td>2AMIS</td>\n",
       "      <td>https://www.immotop.lu/estate-agency/2amis-d22...</td>\n",
       "      <td>FRANCE</td>\n",
       "    </tr>\n",
       "    <tr>\n",
       "      <th>3</th>\n",
       "      <td>3%.COM IMMOBILIER</td>\n",
       "      <td>https://www.immotop.lu/estate-agency/3-com-imm...</td>\n",
       "      <td>FRANCE</td>\n",
       "    </tr>\n",
       "    <tr>\n",
       "      <th>4</th>\n",
       "      <td>3G IMMO</td>\n",
       "      <td>https://www.immotop.lu/estate-agency/3g-immo-d...</td>\n",
       "      <td>FRANCE</td>\n",
       "    </tr>\n",
       "    <tr>\n",
       "      <th>5</th>\n",
       "      <td>3G IMMO-CONSULTANT</td>\n",
       "      <td>https://www.immotop.lu/estate-agency/3g-immo-c...</td>\n",
       "      <td>FRANCE</td>\n",
       "    </tr>\n",
       "    <tr>\n",
       "      <th>...</th>\n",
       "      <td>...</td>\n",
       "      <td>...</td>\n",
       "      <td>...</td>\n",
       "    </tr>\n",
       "    <tr>\n",
       "      <th>3259</th>\n",
       "      <td>XL IMMOBILIER</td>\n",
       "      <td>https://www.immotop.lu/estate-agency/xl-immobi...</td>\n",
       "      <td>FRANCE</td>\n",
       "    </tr>\n",
       "    <tr>\n",
       "      <th>3260</th>\n",
       "      <td>XL LAXOU</td>\n",
       "      <td>https://www.immotop.lu/estate-agency/xl-laxou-...</td>\n",
       "      <td>FRANCE</td>\n",
       "    </tr>\n",
       "    <tr>\n",
       "      <th>3261</th>\n",
       "      <td>XL PRESTIGE NANCY</td>\n",
       "      <td>https://www.immotop.lu/estate-agency/xl-presti...</td>\n",
       "      <td>FRANCE</td>\n",
       "    </tr>\n",
       "    <tr>\n",
       "      <th>3263</th>\n",
       "      <td>YESPARK</td>\n",
       "      <td>https://www.immotop.lu/estate-agency/yespark-d...</td>\n",
       "      <td>FRANCE</td>\n",
       "    </tr>\n",
       "    <tr>\n",
       "      <th>3266</th>\n",
       "      <td>YVES MULLER - LA FOURMI IMMO</td>\n",
       "      <td>https://www.immotop.lu/estate-agency/yves-mull...</td>\n",
       "      <td>FRANCE</td>\n",
       "    </tr>\n",
       "  </tbody>\n",
       "</table>\n",
       "<p>2018 rows × 3 columns</p>\n",
       "</div>"
      ],
      "text/plain": [
       "                            Agence  \\\n",
       "0                          13 IMMO   \n",
       "2                            2AMIS   \n",
       "3                3%.COM IMMOBILIER   \n",
       "4                          3G IMMO   \n",
       "5               3G IMMO-CONSULTANT   \n",
       "...                            ...   \n",
       "3259                 XL IMMOBILIER   \n",
       "3260                      XL LAXOU   \n",
       "3261             XL PRESTIGE NANCY   \n",
       "3263                       YESPARK   \n",
       "3266  YVES MULLER - LA FOURMI IMMO   \n",
       "\n",
       "                                                  Links   Country  \n",
       "0     https://www.immotop.lu/estate-agency/13-immo-d...  BELGIQUE  \n",
       "2     https://www.immotop.lu/estate-agency/2amis-d22...    FRANCE  \n",
       "3     https://www.immotop.lu/estate-agency/3-com-imm...    FRANCE  \n",
       "4     https://www.immotop.lu/estate-agency/3g-immo-d...    FRANCE  \n",
       "5     https://www.immotop.lu/estate-agency/3g-immo-c...    FRANCE  \n",
       "...                                                 ...       ...  \n",
       "3259  https://www.immotop.lu/estate-agency/xl-immobi...    FRANCE  \n",
       "3260  https://www.immotop.lu/estate-agency/xl-laxou-...    FRANCE  \n",
       "3261  https://www.immotop.lu/estate-agency/xl-presti...    FRANCE  \n",
       "3263  https://www.immotop.lu/estate-agency/yespark-d...    FRANCE  \n",
       "3266  https://www.immotop.lu/estate-agency/yves-mull...    FRANCE  \n",
       "\n",
       "[2018 rows x 3 columns]"
      ]
     },
     "execution_count": 34,
     "metadata": {},
     "output_type": "execute_result"
    }
   ],
   "source": [
    "df2"
   ]
  },
  {
   "cell_type": "code",
   "execution_count": 36,
   "metadata": {},
   "outputs": [],
   "source": [
    "df2.to_csv(r'C:\\Users\\bruno\\Desktop\\datasets\\df2.csv', index=False)"
   ]
  },
  {
   "cell_type": "code",
   "execution_count": null,
   "metadata": {},
   "outputs": [],
   "source": []
  }
 ],
 "metadata": {
  "kernelspec": {
   "display_name": "Python 3",
   "language": "python",
   "name": "python3"
  },
  "language_info": {
   "codemirror_mode": {
    "name": "ipython",
    "version": 3
   },
   "file_extension": ".py",
   "mimetype": "text/x-python",
   "name": "python",
   "nbconvert_exporter": "python",
   "pygments_lexer": "ipython3",
   "version": "3.8.3"
  }
 },
 "nbformat": 4,
 "nbformat_minor": 4
}
